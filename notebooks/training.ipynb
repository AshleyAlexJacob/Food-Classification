{
 "cells": [
  {
   "cell_type": "code",
   "execution_count": 1,
   "id": "2374c3de",
   "metadata": {},
   "outputs": [],
   "source": [
    "import os\n",
    "\n",
    "from torch.utils.data import DataLoader\n",
    "from torchvision import transforms\n",
    "from torchvision.datasets import ImageFolder\n",
    "import torch.nn as nn\n",
    "import torch.optim as optim"
   ]
  },
  {
   "cell_type": "code",
   "execution_count": 2,
   "id": "58a9b9bb",
   "metadata": {},
   "outputs": [],
   "source": [
    "os.chdir(\"../\")"
   ]
  },
  {
   "cell_type": "code",
   "execution_count": 3,
   "id": "bd96c31d",
   "metadata": {},
   "outputs": [],
   "source": [
    "train_transform = transforms.Compose([\n",
    "    transforms.Resize((224, 224)),\n",
    "    transforms.RandomHorizontalFlip(),\n",
    "    transforms.RandomRotation(10),\n",
    "    transforms.ColorJitter(brightness=0.2, contrast=0.2,   \n",
    "                           saturation=0.2, hue=0.1),\n",
    "\n",
    "     transforms.ToTensor(),\n",
    "    transforms.Normalize(mean=[0.485, 0.456, 0.406],\n",
    "                           std=[0.229, 0.224, 0.225]),\n",
    "\n",
    "])                     "
   ]
  },
  {
   "cell_type": "code",
   "execution_count": 4,
   "id": "bddc35b4",
   "metadata": {},
   "outputs": [],
   "source": [
    "test_transform = transforms.Compose([\n",
    "    transforms.Resize((224, 224)),\n",
    "    transforms.ToTensor(),\n",
    "    transforms.Normalize(mean=[0.485, 0.456, 0.406],\n",
    "                           std=[0.229, 0.224, 0.225]),\n",
    "])"
   ]
  },
  {
   "cell_type": "markdown",
   "id": "c9ab5cef",
   "metadata": {},
   "source": [
    "### Dataset Load"
   ]
  },
  {
   "cell_type": "code",
   "execution_count": 5,
   "id": "e6ab91cc",
   "metadata": {},
   "outputs": [],
   "source": [
    "TRAINING_DIR = \"data/processed/train\"\n",
    "VALIDATION_DIR = \"data/processed/test\""
   ]
  },
  {
   "cell_type": "code",
   "execution_count": 6,
   "id": "a7477010",
   "metadata": {},
   "outputs": [],
   "source": [
    "train_data = ImageFolder(root=TRAINING_DIR, transform= train_transform)\n",
    "test_data = ImageFolder(root=VALIDATION_DIR, transform=test_transform)"
   ]
  },
  {
   "cell_type": "code",
   "execution_count": 7,
   "id": "2a1a614f",
   "metadata": {},
   "outputs": [],
   "source": [
    "train_loader = DataLoader(train_data, batch_size=32, shuffle=True, num_workers=1)\n",
    "test_loader = DataLoader(test_data, batch_size=32, shuffle=False, num_workers=1)"
   ]
  },
  {
   "cell_type": "code",
   "execution_count": 8,
   "id": "2397efe9",
   "metadata": {},
   "outputs": [],
   "source": [
    "batches = len(train_loader)"
   ]
  },
  {
   "cell_type": "code",
   "execution_count": 9,
   "id": "a7833e1d",
   "metadata": {},
   "outputs": [
    {
     "name": "stdout",
     "output_type": "stream",
     "text": [
      "Batch 1:\n",
      "Images shape: torch.Size([32, 3, 224, 224])\n",
      "Labels shape: torch.Size([32])\n",
      "Batch 2:\n",
      "Images shape: torch.Size([32, 3, 224, 224])\n",
      "Labels shape: torch.Size([32])\n",
      "Batch 3:\n",
      "Images shape: torch.Size([32, 3, 224, 224])\n",
      "Labels shape: torch.Size([32])\n"
     ]
    }
   ],
   "source": [
    "for i, (images, labels) in enumerate(train_loader):\n",
    "    print(f\"Batch {i+1}:\")\n",
    "    print(f\"Images shape: {images.shape}\")\n",
    "    print(f\"Labels shape: {labels.shape}\")\n",
    "    if i == 2:  # Display only the first 3 batches\n",
    "        break"
   ]
  },
  {
   "cell_type": "code",
   "execution_count": 10,
   "id": "f5f10b71",
   "metadata": {},
   "outputs": [
    {
     "name": "stdout",
     "output_type": "stream",
     "text": [
      "Number of classes: 14\n",
      "Classes: ['bbq', 'biryani', 'brownie', 'butter_chicken', 'chai', 'chapati', 'chicken_tikka', 'french_fries', 'fried_rice', 'haleem', 'omelette', 'paratha', 'paratha_roll', 'samosa']\n"
     ]
    }
   ],
   "source": [
    "# Get class names and number of classes\n",
    "class_names = train_data.classes\n",
    "num_classes = len(class_names)\n",
    "print(f'Number of classes: {num_classes}')\n",
    "print(f'Classes: {class_names}')\n"
   ]
  },
  {
   "cell_type": "markdown",
   "id": "f5c20ec7",
   "metadata": {},
   "source": [
    "### Model Architecture"
   ]
  },
  {
   "cell_type": "code",
   "execution_count": 11,
   "id": "fcccd556",
   "metadata": {},
   "outputs": [],
   "source": [
    "class CNN(nn.Module):\n",
    "    def __init__(self):\n",
    "        super(CNN, self).__init__()\n",
    "        \n",
    "        self.conv1 = nn.Conv2d(3, 64, kernel_size=3, stride=1, padding=1)\n",
    "        self.conv2 = nn.Conv2d(64, 128, kernel_size=3, stride=1, padding=1)\n",
    "        self.conv3 = nn.Conv2d(128, 256, kernel_size=3, stride=1, padding=1)\n",
    "        self.conv4 = nn.Conv2d(256, 512, kernel_size=3, stride=1, padding=1)\n",
    "        self.pool = nn.MaxPool2d(kernel_size=2, stride=2, padding=0)\n",
    "        self.relu = nn.ReLU()\n",
    "        self.fc1 = nn.Linear(512 * 14 * 14, 1024)\n",
    "        self.fc2 = nn.Linear(1024, num_classes)\n",
    "    \n",
    "    def forward(self, x):\n",
    "        x = self.relu(self.pool(self.conv1(x)))\n",
    "        \n",
    "        x = self.relu(self.pool(self.conv2(x)))\n",
    "        x = self.relu(self.pool(self.conv3(x)))\n",
    "        x = self.relu(self.pool(self.conv4(x)))\n",
    "        x = x.view(-1, 512 * 14 * 14)  #\n",
    "        x = self.relu(self.fc1(x))\n",
    "        x = self.fc2(x)\n",
    "        return x\n"
   ]
  },
  {
   "cell_type": "code",
   "execution_count": 12,
   "id": "ed9486b0",
   "metadata": {},
   "outputs": [],
   "source": [
    "model = CNN()"
   ]
  },
  {
   "cell_type": "code",
   "execution_count": 13,
   "id": "5972e316",
   "metadata": {},
   "outputs": [
    {
     "data": {
      "text/plain": [
       "<bound method Module.parameters of CNN(\n",
       "  (conv1): Conv2d(3, 64, kernel_size=(3, 3), stride=(1, 1), padding=(1, 1))\n",
       "  (conv2): Conv2d(64, 128, kernel_size=(3, 3), stride=(1, 1), padding=(1, 1))\n",
       "  (conv3): Conv2d(128, 256, kernel_size=(3, 3), stride=(1, 1), padding=(1, 1))\n",
       "  (conv4): Conv2d(256, 512, kernel_size=(3, 3), stride=(1, 1), padding=(1, 1))\n",
       "  (pool): MaxPool2d(kernel_size=2, stride=2, padding=0, dilation=1, ceil_mode=False)\n",
       "  (relu): ReLU()\n",
       "  (fc1): Linear(in_features=100352, out_features=1024, bias=True)\n",
       "  (fc2): Linear(in_features=1024, out_features=14, bias=True)\n",
       ")>"
      ]
     },
     "execution_count": 13,
     "metadata": {},
     "output_type": "execute_result"
    }
   ],
   "source": [
    "model.parameters"
   ]
  },
  {
   "cell_type": "code",
   "execution_count": 14,
   "id": "66f816df",
   "metadata": {},
   "outputs": [],
   "source": [
    "LEARNING_RATE = 0.001"
   ]
  },
  {
   "cell_type": "code",
   "execution_count": 15,
   "id": "348336b9",
   "metadata": {},
   "outputs": [],
   "source": [
    "optimizer = optim.SGD(model.parameters(), lr=LEARNING_RATE)"
   ]
  },
  {
   "cell_type": "code",
   "execution_count": 16,
   "id": "9796be9a",
   "metadata": {},
   "outputs": [],
   "source": [
    "criterion = nn.CrossEntropyLoss()"
   ]
  },
  {
   "cell_type": "code",
   "execution_count": 17,
   "id": "7298fad4",
   "metadata": {},
   "outputs": [],
   "source": [
    "EPOCHS = 10"
   ]
  },
  {
   "cell_type": "markdown",
   "id": "f9a77713",
   "metadata": {},
   "source": [
    "### Training Loop"
   ]
  },
  {
   "cell_type": "code",
   "execution_count": 18,
   "id": "9c309bbe",
   "metadata": {},
   "outputs": [],
   "source": [
    "import torch"
   ]
  },
  {
   "cell_type": "code",
   "execution_count": 19,
   "id": "67f06681",
   "metadata": {},
   "outputs": [
    {
     "data": {
      "text/plain": [
       "False"
      ]
     },
     "execution_count": 19,
     "metadata": {},
     "output_type": "execute_result"
    }
   ],
   "source": [
    "torch.cuda.is_available()"
   ]
  },
  {
   "cell_type": "code",
   "execution_count": 20,
   "id": "eda30604",
   "metadata": {},
   "outputs": [],
   "source": [
    "DEVICE = 'cuda' if torch.cuda.is_available() else 'cpu'\n",
    "torch.set_default_device(DEVICE)"
   ]
  },
  {
   "cell_type": "code",
   "execution_count": 1,
   "id": "0c167f46",
   "metadata": {},
   "outputs": [],
   "source": [
    "def training_loop():\n",
    "    model.train()\n",
    "    running_loss = 0.0\n",
    "    correct = 0\n",
    "    total = 0\n",
    "    for batch,(image, label) in enumerate(train_loader):\n",
    "        image = image.to(torch.device(DEVICE))\n",
    "        label = label.to(torch.device(DEVICE))\n",
    "        \n",
    "        optimizer.zero_grad()\n",
    "        \n",
    "        # Forward Pass\n",
    "        output = model(image)\n",
    "        \n",
    "        loss = criterion(output, label)\n",
    "        \n",
    "        # Backward Pass\n",
    "        loss.backward()\n",
    "        \n",
    "        optimizer.step()\n",
    "\n",
    "\n",
    "        running_loss += loss.item()\n",
    "\n",
    "        _, predicted = torch.max(output.data, 1)\n",
    "        total += label.size(0)\n",
    "        correct += (predicted == label).sum().item()\n",
    "        \n",
    "        if batch % 5 == 0:\n",
    "            print(f'Batch {batch}/{len(train_loader)}, Loss: {loss.item():.4f}')\n",
    "    \n",
    "    epoch_loss = running_loss / len(train_loader)\n",
    "    epoch_acc = 100. * correct / total\n",
    "    return epoch_loss, epoch_acc"
   ]
  },
  {
   "cell_type": "code",
   "execution_count": null,
   "id": "3b3676ae",
   "metadata": {},
   "outputs": [],
   "source": [
    "def validation_loop():\n",
    "    model.eval()\n",
    "    running_loss = 0.0\n",
    "    correct = 0\n",
    "    total = 0\n",
    "    with torch.no_grad():\n",
    "        for batch, (image, label) in enumerate(test_loader):\n",
    "            image = image.to(torch.device(DEVICE))\n",
    "            label = label.to(torch.device(DEVICE))\n",
    "            \n",
    "            output = model(image)\n",
    "            loss = criterion(output, label)\n",
    "            \n",
    "            running_loss += loss.item()\n",
    "            \n",
    "            _, predicted = torch.max(output.data, 1)\n",
    "            total += label.size(0)\n",
    "            correct += (predicted == label).sum().item()\n",
    "\n",
    "            if batch % 5 == 0:\n",
    "                print(f'Batch {batch}/{len(train_loader)}, Loss: {loss.item():.4f}')\n",
    "    \n",
    "    \n",
    "    epoch_loss = running_loss / len(test_loader)\n",
    "    epoch_acc = 100. * correct / total\n",
    "    return epoch_loss, epoch_acc"
   ]
  },
  {
   "cell_type": "code",
   "execution_count": null,
   "id": "ace4ba1a",
   "metadata": {},
   "outputs": [
    {
     "name": "stdout",
     "output_type": "stream",
     "text": [
      "Epoch 1/10\n",
      "Batch 0/33, Loss: 2.6367\n",
      "Batch 5/33, Loss: 2.6387\n",
      "Batch 10/33, Loss: 2.6354\n",
      "Batch 15/33, Loss: 2.6366\n",
      "Batch 20/33, Loss: 2.6412\n",
      "Batch 25/33, Loss: 2.6426\n",
      "Batch 30/33, Loss: 2.6390\n",
      "Epoch 1/10, Loss: 2.6388, Accuracy: 8.38%\n",
      "Epoch 2/10\n",
      "Batch 0/33, Loss: 2.6340\n",
      "Batch 5/33, Loss: 2.6365\n",
      "Batch 10/33, Loss: 2.6375\n",
      "Batch 15/33, Loss: 2.6385\n",
      "Batch 20/33, Loss: 2.6345\n",
      "Batch 25/33, Loss: 2.6341\n",
      "Batch 30/33, Loss: 2.6346\n",
      "Epoch 2/10, Loss: 2.6365, Accuracy: 9.62%\n",
      "Epoch 3/10\n",
      "Batch 0/33, Loss: 2.6341\n",
      "Batch 5/33, Loss: 2.6343\n",
      "Batch 10/33, Loss: 2.6364\n",
      "Batch 15/33, Loss: 2.6369\n",
      "Batch 20/33, Loss: 2.6363\n",
      "Batch 25/33, Loss: 2.6330\n",
      "Batch 30/33, Loss: 2.6364\n",
      "Epoch 3/10, Loss: 2.6347, Accuracy: 11.43%\n",
      "Epoch 4/10\n",
      "Batch 0/33, Loss: 2.6394\n",
      "Batch 5/33, Loss: 2.6355\n",
      "Batch 10/33, Loss: 2.6363\n",
      "Batch 15/33, Loss: 2.6285\n",
      "Batch 20/33, Loss: 2.6361\n",
      "Batch 25/33, Loss: 2.6285\n",
      "Batch 30/33, Loss: 2.6319\n",
      "Epoch 4/10, Loss: 2.6328, Accuracy: 12.48%\n",
      "Epoch 5/10\n",
      "Batch 0/33, Loss: 2.6256\n",
      "Batch 5/33, Loss: 2.6273\n",
      "Batch 10/33, Loss: 2.6324\n",
      "Batch 15/33, Loss: 2.6311\n",
      "Batch 20/33, Loss: 2.6283\n",
      "Batch 25/33, Loss: 2.6260\n",
      "Batch 30/33, Loss: 2.6257\n",
      "Epoch 5/10, Loss: 2.6308, Accuracy: 12.00%\n",
      "Epoch 6/10\n",
      "Batch 0/33, Loss: 2.6357\n",
      "Batch 5/33, Loss: 2.6320\n",
      "Batch 10/33, Loss: 2.6239\n",
      "Batch 15/33, Loss: 2.6286\n",
      "Batch 20/33, Loss: 2.6369\n",
      "Batch 25/33, Loss: 2.6411\n",
      "Batch 30/33, Loss: 2.6288\n",
      "Epoch 6/10, Loss: 2.6295, Accuracy: 10.57%\n",
      "Epoch 7/10\n",
      "Batch 0/33, Loss: 2.6293\n",
      "Batch 5/33, Loss: 2.6288\n",
      "Batch 10/33, Loss: 2.6333\n",
      "Batch 15/33, Loss: 2.6289\n",
      "Batch 20/33, Loss: 2.6273\n",
      "Batch 25/33, Loss: 2.6201\n",
      "Batch 30/33, Loss: 2.6307\n",
      "Epoch 7/10, Loss: 2.6272, Accuracy: 13.14%\n",
      "Epoch 8/10\n",
      "Batch 0/33, Loss: 2.6255\n",
      "Batch 5/33, Loss: 2.6245\n",
      "Batch 10/33, Loss: 2.6331\n",
      "Batch 15/33, Loss: 2.6310\n",
      "Batch 20/33, Loss: 2.6356\n",
      "Batch 25/33, Loss: 2.6211\n",
      "Batch 30/33, Loss: 2.6234\n",
      "Epoch 8/10, Loss: 2.6253, Accuracy: 14.19%\n",
      "Epoch 9/10\n",
      "Batch 0/33, Loss: 2.6210\n",
      "Batch 5/33, Loss: 2.6226\n",
      "Batch 10/33, Loss: 2.6214\n",
      "Batch 15/33, Loss: 2.6251\n",
      "Batch 20/33, Loss: 2.6114\n",
      "Batch 25/33, Loss: 2.6271\n",
      "Batch 30/33, Loss: 2.6309\n",
      "Epoch 9/10, Loss: 2.6234, Accuracy: 13.24%\n",
      "Epoch 10/10\n",
      "Batch 0/33, Loss: 2.6259\n",
      "Batch 5/33, Loss: 2.6160\n",
      "Batch 10/33, Loss: 2.6138\n",
      "Batch 15/33, Loss: 2.6199\n",
      "Batch 20/33, Loss: 2.6244\n",
      "Batch 25/33, Loss: 2.6134\n",
      "Batch 30/33, Loss: 2.6255\n",
      "Epoch 10/10, Loss: 2.6205, Accuracy: 14.76%\n"
     ]
    }
   ],
   "source": [
    "def epoch_loop(EPOCHS):\n",
    "    for epoch in range (EPOCHS):\n",
    "        running_loss = 0.0\n",
    "        correct = 0\n",
    "        total = 0\n",
    "        print(f\"Epoch {epoch+1}/{EPOCHS}\")\n",
    "        for batch,(image, label) in enumerate(train_loader):\n",
    "            image = image.to(torch.device(DEVICE))\n",
    "            label = label.to(torch.device(DEVICE))\n",
    "            \n",
    "            optimizer.zero_grad()\n",
    "            \n",
    "            # Forward Pass\n",
    "            output = model(image)\n",
    "            \n",
    "            loss = criterion(output, label)\n",
    "            \n",
    "            # Backward Pass\n",
    "            loss.backward()\n",
    "            \n",
    "            optimizer.step()\n",
    "\n",
    "\n",
    "            running_loss += loss.item()\n",
    "\n",
    "            _, predicted = torch.max(output.data, 1)\n",
    "            total += label.size(0)\n",
    "            correct += (predicted == label).sum().item()\n",
    "            \n",
    "            if batch % 5 == 0:\n",
    "                print(f'Batch {batch}/{len(train_loader)}, Loss: {loss.item():.4f}')\n",
    "        \n",
    "        epoch_loss = running_loss / len(train_loader)\n",
    "        epoch_acc = 100. * correct / total\n",
    "        \n",
    "        print(f'Epoch {epoch+1}/{EPOCHS}, Loss: {epoch_loss:.4f}, Accuracy: {epoch_acc:.2f}%')"
   ]
  },
  {
   "cell_type": "code",
   "execution_count": null,
   "id": "64a696be",
   "metadata": {},
   "outputs": [],
   "source": []
  }
 ],
 "metadata": {
  "kernelspec": {
   "display_name": "Food-Classification",
   "language": "python",
   "name": "python3"
  },
  "language_info": {
   "codemirror_mode": {
    "name": "ipython",
    "version": 3
   },
   "file_extension": ".py",
   "mimetype": "text/x-python",
   "name": "python",
   "nbconvert_exporter": "python",
   "pygments_lexer": "ipython3",
   "version": "3.12.10"
  }
 },
 "nbformat": 4,
 "nbformat_minor": 5
}
