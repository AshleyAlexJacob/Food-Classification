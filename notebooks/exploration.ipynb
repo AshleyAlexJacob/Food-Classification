{
 "cells": [
  {
   "cell_type": "code",
   "execution_count": 8,
   "id": "f192f0a3",
   "metadata": {},
   "outputs": [],
   "source": [
    "import os\n",
    "import shutil\n",
    "import random"
   ]
  },
  {
   "cell_type": "code",
   "execution_count": 2,
   "id": "227687da",
   "metadata": {},
   "outputs": [],
   "source": [
    "os.chdir(\"../\")"
   ]
  },
  {
   "cell_type": "code",
   "execution_count": 3,
   "id": "122711ca",
   "metadata": {},
   "outputs": [
    {
     "name": "stdout",
     "output_type": "stream",
     "text": [
      "/Users/jacob/courses/AI-SMIT/DeepLearning/projects/Food-Classification\n"
     ]
    }
   ],
   "source": [
    "!pwd"
   ]
  },
  {
   "cell_type": "code",
   "execution_count": 4,
   "id": "f67f2d66",
   "metadata": {},
   "outputs": [],
   "source": [
    "classes = list(os.listdir(\"data/raw/\"))"
   ]
  },
  {
   "cell_type": "code",
   "execution_count": 5,
   "id": "cd34360f",
   "metadata": {},
   "outputs": [
    {
     "name": "stdout",
     "output_type": "stream",
     "text": [
      "Number of classes: 14\n"
     ]
    }
   ],
   "source": [
    "print(f\"Number of classes: {len(classes)}\")"
   ]
  },
  {
   "cell_type": "code",
   "execution_count": 6,
   "id": "bf046f76",
   "metadata": {},
   "outputs": [
    {
     "data": {
      "text/plain": [
       "['biryani',\n",
       " 'samosa',\n",
       " 'chapati',\n",
       " 'haleem',\n",
       " 'chai',\n",
       " 'bbq',\n",
       " 'paratha_roll',\n",
       " 'brownie',\n",
       " 'chicken_tikka',\n",
       " 'omelette',\n",
       " 'butter_chicken',\n",
       " 'paratha',\n",
       " 'french_fries',\n",
       " 'fried_rice']"
      ]
     },
     "execution_count": 6,
     "metadata": {},
     "output_type": "execute_result"
    }
   ],
   "source": [
    "classes"
   ]
  },
  {
   "cell_type": "code",
   "execution_count": null,
   "id": "cd5acdfa",
   "metadata": {},
   "outputs": [
    {
     "name": "stdout",
     "output_type": "stream",
     "text": [
      "Class: biryani\n",
      "Number of images in biryani: 100\n",
      "Example image: biryani21.jpg\n",
      "----------------------------------------\n",
      "Class: samosa\n",
      "Number of images in samosa: 100\n",
      "Example image: samosa8.jpg\n",
      "----------------------------------------\n",
      "Class: chapati\n",
      "Number of images in chapati: 100\n",
      "Example image: chapati65.jpg\n",
      "----------------------------------------\n",
      "Class: haleem\n",
      "Number of images in haleem: 100\n",
      "Example image: haleem59.jpg\n",
      "----------------------------------------\n",
      "Class: chai\n",
      "Number of images in chai: 100\n",
      "Example image: chai10.jpg\n",
      "----------------------------------------\n",
      "Class: bbq\n",
      "Number of images in bbq: 100\n",
      "Example image: bbq87.jpg\n",
      "----------------------------------------\n",
      "Class: paratha_roll\n",
      "Number of images in paratha_roll: 100\n",
      "Example image: paratharoll11.jpg\n",
      "----------------------------------------\n",
      "Class: brownie\n",
      "Number of images in brownie: 100\n",
      "Example image: brownie6.jpg\n",
      "----------------------------------------\n",
      "Class: chicken_tikka\n",
      "Number of images in chicken_tikka: 100\n",
      "Example image: chickentikka21.jpg\n",
      "----------------------------------------\n",
      "Class: omelette\n",
      "Number of images in omelette: 100\n",
      "Example image: omelette16.jpg\n",
      "----------------------------------------\n",
      "Class: butter_chicken\n",
      "Number of images in butter_chicken: 100\n",
      "Example image: butterchicken76.jpg\n",
      "----------------------------------------\n",
      "Class: paratha\n",
      "Number of images in paratha: 100\n",
      "Example image: paratha53.jpg\n",
      "----------------------------------------\n",
      "Class: french_fries\n",
      "Number of images in french_fries: 100\n",
      "Example image: frenchfries56.jpg\n",
      "----------------------------------------\n",
      "Class: fried_rice\n",
      "Number of images in fried_rice: 100\n",
      "Example image: friedrice22.jpg\n",
      "----------------------------------------\n"
     ]
    }
   ],
   "source": [
    "for class_ in classes:\n",
    "    print(f\"Class: {class_}\")\n",
    "    class_path = os.path.join(\"data/raw\", class_)\n",
    "    images = os.listdir(class_path)\n",
    "    print(f\"Number of images in {class_}: {len(images)}\")\n",
    "    if len(images) > 0:\n",
    "        print(f\"Example image: {images[0]}\")\n",
    "    else:\n",
    "        print(\"No images found.\")\n",
    "    print(\"-\" * 40)"
   ]
  },
  {
   "cell_type": "code",
   "execution_count": null,
   "id": "743a1a52",
   "metadata": {},
   "outputs": [],
   "source": [
    "DATA_DIR = \"data/raw\"\n",
    "TRAIN_DIR = \"data/processed/train\"\n",
    "TEST_DIR = \"data/processed/test\"\n",
    "TRAIN_RATIO = 0.75\n",
    "\n",
    "for class_ in classes:\n",
    "    # raw data/raw\n",
    "    # class name biryani\n",
    "    # combine_path. = data/raw/biryani\n",
    "    class_path = os.path.join(DATA_DIR, class_)\n",
    "    images = os.listdir(class_path)\n",
    "    random.shuffle(images)\n",
    "    train_size = int(len(images) * TRAIN_RATIO)\n",
    "    train_images = images[:train_size]\n",
    "    test_images = images[train_size:]\n",
    "\n",
    "    train_class_dir = os.path.join(TRAIN_DIR, class_)\n",
    "    test_class_dir = os.path.join(TEST_DIR, class_)\n",
    "\n",
    "    os.makedirs(train_class_dir, exist_ok=True)\n",
    "    os.makedirs(test_class_dir, exist_ok=True)\n",
    "\n",
    "    for img in train_images:\n",
    "        shutil.copy(os.path.join(class_path, img), train_class_dir)\n",
    "    for img in test_images:\n",
    "        shutil.copy(os.path.join(class_path, img), test_class_dir)"
   ]
  }
 ],
 "metadata": {
  "kernelspec": {
   "display_name": ".venv",
   "language": "python",
   "name": "python3"
  },
  "language_info": {
   "codemirror_mode": {
    "name": "ipython",
    "version": 3
   },
   "file_extension": ".py",
   "mimetype": "text/x-python",
   "name": "python",
   "nbconvert_exporter": "python",
   "pygments_lexer": "ipython3",
   "version": "3.12.10"
  }
 },
 "nbformat": 4,
 "nbformat_minor": 5
}
